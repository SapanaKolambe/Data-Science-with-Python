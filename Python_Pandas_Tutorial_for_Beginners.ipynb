{
  "nbformat": 4,
  "nbformat_minor": 0,
  "metadata": {
    "colab": {
      "provenance": [],
      "include_colab_link": true
    },
    "kernelspec": {
      "name": "python3",
      "display_name": "Python 3"
    },
    "language_info": {
      "name": "python"
    }
  },
  "cells": [
    {
      "cell_type": "markdown",
      "metadata": {
        "id": "view-in-github",
        "colab_type": "text"
      },
      "source": [
        "<a href=\"https://colab.research.google.com/github/SapanaKolambe/Data-Science-with-Python/blob/main/Python_Pandas_Tutorial_for_Beginners.ipynb\" target=\"_parent\"><img src=\"https://colab.research.google.com/assets/colab-badge.svg\" alt=\"Open In Colab\"/></a>"
      ]
    },
    {
      "cell_type": "markdown",
      "source": [
        "**Python Pandas Tutorial for Beginners**"
      ],
      "metadata": {
        "id": "a5uiq0yteSvC"
      }
    },
    {
      "cell_type": "markdown",
      "source": [
        "Pandas is a Python library which used to analyze data and working with data sets. Basically used for analyzing, cleaning, exploring, and manipulating data."
      ],
      "metadata": {
        "id": "7O9QB1SeeNRo"
      }
    },
    {
      "cell_type": "markdown",
      "source": [
        "**Installation of Pandas(on System)**"
      ],
      "metadata": {
        "id": "00MuCszBerrH"
      }
    },
    {
      "cell_type": "code",
      "source": [
        "# system drive path>pip install pandas"
      ],
      "metadata": {
        "id": "sMilNaase67I"
      },
      "execution_count": null,
      "outputs": []
    },
    {
      "cell_type": "markdown",
      "source": [
        "If it gives error, then use a python software like, Anaconda, Spyder etc which having Pandas installed already."
      ],
      "metadata": {
        "id": "hTfOtyn6fHuP"
      }
    },
    {
      "cell_type": "markdown",
      "source": [
        "**Installation of Pandas(Google Colab)**"
      ],
      "metadata": {
        "id": "uLRTTJYidvfN"
      }
    },
    {
      "cell_type": "code",
      "source": [
        "!pip install pandas"
      ],
      "metadata": {
        "colab": {
          "base_uri": "https://localhost:8080/"
        },
        "id": "h5RL-vYPeLMI",
        "outputId": "5c79d082-ccea-4eeb-bec3-3c2d74f2ce5b"
      },
      "execution_count": null,
      "outputs": [
        {
          "output_type": "stream",
          "name": "stdout",
          "text": [
            "Looking in indexes: https://pypi.org/simple, https://us-python.pkg.dev/colab-wheels/public/simple/\n",
            "Requirement already satisfied: pandas in /usr/local/lib/python3.7/dist-packages (1.3.5)\n",
            "Requirement already satisfied: pytz>=2017.3 in /usr/local/lib/python3.7/dist-packages (from pandas) (2022.5)\n",
            "Requirement already satisfied: python-dateutil>=2.7.3 in /usr/local/lib/python3.7/dist-packages (from pandas) (2.8.2)\n",
            "Requirement already satisfied: numpy>=1.17.3 in /usr/local/lib/python3.7/dist-packages (from pandas) (1.21.6)\n",
            "Requirement already satisfied: six>=1.5 in /usr/local/lib/python3.7/dist-packages (from python-dateutil>=2.7.3->pandas) (1.15.0)\n"
          ]
        }
      ]
    },
    {
      "cell_type": "markdown",
      "source": [
        "Once Pandas library is installed, import it in your applications by using import keyword."
      ],
      "metadata": {
        "id": "hKT3nNUlfuGW"
      }
    },
    {
      "cell_type": "code",
      "source": [
        "import pandas as pd"
      ],
      "metadata": {
        "id": "7ApqrDQZf2ae"
      },
      "execution_count": null,
      "outputs": []
    },
    {
      "cell_type": "markdown",
      "source": [
        "pd is object of oandas library. Now its ready to use.\n",
        "The two major components of pandas are the “**Series**” and “**DataFrame**”."
      ],
      "metadata": {
        "id": "cEAICPpef8a2"
      }
    },
    {
      "cell_type": "markdown",
      "source": [
        "**Pandas Series**\n",
        "\n",
        "“Series” is basically a column in table which holding data of any type like integer, string, float, python objects, etc."
      ],
      "metadata": {
        "id": "bn9CGVWuiG77"
      }
    },
    {
      "cell_type": "code",
      "source": [
        "Country=[\"India\",\"Australia\",\"USA\",\"Sri lanka\",\"Pakistan\"]"
      ],
      "metadata": {
        "id": "i235yx7Lf5Bd"
      },
      "execution_count": null,
      "outputs": []
    },
    {
      "cell_type": "markdown",
      "source": [
        "Created Country array."
      ],
      "metadata": {
        "id": "GjaHLAsljWlJ"
      }
    },
    {
      "cell_type": "code",
      "source": [
        "list1=pd.Series(Country)\n",
        "print(list1)"
      ],
      "metadata": {
        "colab": {
          "base_uri": "https://localhost:8080/"
        },
        "id": "OL8Skg5djato",
        "outputId": "f98a2fbe-0059-49eb-8d35-fb67efc38251"
      },
      "execution_count": null,
      "outputs": [
        {
          "output_type": "stream",
          "name": "stdout",
          "text": [
            "0        India\n",
            "1    Australia\n",
            "2          USA\n",
            "3    Sri lanka\n",
            "4     Pakistan\n",
            "dtype: object\n"
          ]
        }
      ]
    },
    {
      "cell_type": "markdown",
      "source": [
        "If index is not pecified, the values are labeled with their index number. \n",
        "\n",
        "First value has index 0, second value has index 1 etc.\n",
        "\n",
        "We can display a specific value using index."
      ],
      "metadata": {
        "id": "HuIfJxnFjnTP"
      }
    },
    {
      "cell_type": "code",
      "source": [
        "print(list1[1])"
      ],
      "metadata": {
        "colab": {
          "base_uri": "https://localhost:8080/"
        },
        "id": "T0brFGvDkk7o",
        "outputId": "06365eda-3879-400c-d7b0-21b2dd76b6b0"
      },
      "execution_count": null,
      "outputs": [
        {
          "output_type": "stream",
          "name": "stdout",
          "text": [
            "Australia\n"
          ]
        }
      ]
    },
    {
      "cell_type": "markdown",
      "source": [
        "Using index argument, we can name own labels."
      ],
      "metadata": {
        "id": "12xnjHl4lJIn"
      }
    },
    {
      "cell_type": "code",
      "source": [
        "arr = [\"A\", \"B\", \"C\"]\n",
        "\n",
        "var = pd.Series(arr, index = [10,30,70])\n",
        "\n",
        "print(var)"
      ],
      "metadata": {
        "colab": {
          "base_uri": "https://localhost:8080/"
        },
        "id": "vRBCMCAglQt_",
        "outputId": "e9d50308-3e3a-4490-c273-252a2bd050a5"
      },
      "execution_count": null,
      "outputs": [
        {
          "output_type": "stream",
          "name": "stdout",
          "text": [
            "10    A\n",
            "30    B\n",
            "70    C\n",
            "dtype: object\n"
          ]
        }
      ]
    },
    {
      "cell_type": "code",
      "source": [
        "print(var[30])"
      ],
      "metadata": {
        "colab": {
          "base_uri": "https://localhost:8080/"
        },
        "id": "9p8v6_-hl18-",
        "outputId": "c67fd411-066a-4b9f-c72b-df56f815c0d5"
      },
      "execution_count": null,
      "outputs": [
        {
          "output_type": "stream",
          "name": "stdout",
          "text": [
            "B\n"
          ]
        }
      ]
    },
    {
      "cell_type": "markdown",
      "source": [
        "**The pandas DataFrame**\n",
        "\n",
        "DataFrames are usually multi-dimensional tables in Pandas.\n",
        "A basic DataFrame, which can be created is an Empty Dataframe."
      ],
      "metadata": {
        "id": "rFccWvCWmWhv"
      }
    },
    {
      "cell_type": "code",
      "source": [
        "frame1 = pd.DataFrame()\n",
        "print (frame1)"
      ],
      "metadata": {
        "colab": {
          "base_uri": "https://localhost:8080/"
        },
        "id": "SwYFAyWzmvK7",
        "outputId": "4affa3b3-09f8-4a51-dc0b-8b133e6f60dd"
      },
      "execution_count": null,
      "outputs": [
        {
          "output_type": "stream",
          "name": "stdout",
          "text": [
            "Empty DataFrame\n",
            "Columns: []\n",
            "Index: []\n"
          ]
        }
      ]
    },
    {
      "cell_type": "code",
      "source": [
        "data = {\n",
        "    \"Fruit\": [\"Apple\", \"Banana\", \"Orange\"],\n",
        "  \"calories\": [55, 90, 47]\n",
        "  \n",
        "}\n",
        "\n",
        "frame2 = pd.DataFrame(data)\n",
        "\n",
        "print(frame2)"
      ],
      "metadata": {
        "colab": {
          "base_uri": "https://localhost:8080/"
        },
        "id": "392hLTEHnDKa",
        "outputId": "ccc3d45d-768e-4476-d164-fa9a29f2cf44"
      },
      "execution_count": null,
      "outputs": [
        {
          "output_type": "stream",
          "name": "stdout",
          "text": [
            "    Fruit  calories\n",
            "0   Apple        55\n",
            "1  Banana        90\n",
            "2  Orange        47\n"
          ]
        }
      ]
    }
  ]
}