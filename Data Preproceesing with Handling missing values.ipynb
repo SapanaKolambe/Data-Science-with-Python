{
  "nbformat": 4,
  "nbformat_minor": 0,
  "metadata": {
    "colab": {
      "provenance": [],
      "collapsed_sections": []
    },
    "kernelspec": {
      "name": "python3",
      "display_name": "Python 3"
    },
    "language_info": {
      "name": "python"
    }
  },
  "cells": [
    {
      "cell_type": "markdown",
      "source": [
        "**Data pre-processing**\n",
        "\n",
        "\n",
        "\n",
        "Installing Libraries"
      ],
      "metadata": {
        "id": "6d_0478tk-yP"
      }
    },
    {
      "cell_type": "code",
      "execution_count": null,
      "metadata": {
        "id": "a8hEEEhqK36L"
      },
      "outputs": [],
      "source": [
        "!pip install pandas"
      ]
    },
    {
      "cell_type": "markdown",
      "source": [
        "**Importing libraries**"
      ],
      "metadata": {
        "id": "7zRjdI1MlS-A"
      }
    },
    {
      "cell_type": "code",
      "source": [],
      "metadata": {
        "id": "4q_CbgQapqv9"
      },
      "execution_count": null,
      "outputs": []
    },
    {
      "cell_type": "code",
      "source": [
        "import pandas as pd"
      ],
      "metadata": {
        "id": "-68XSQ_2LzwA"
      },
      "execution_count": null,
      "outputs": []
    },
    {
      "cell_type": "markdown",
      "source": [
        "Read Dataset                                      \n",
        "Use the **read_csv()** function of pandas to read the file                             \n",
        "Mention Correct File path(location)                                                                                                 \n",
        "Name of Dataset :abc.csv\n",
        "Contains \n",
        " \n",
        " Country              Age               Salary                Purchased\n",
        "                                                                              \n",
        "France                44.0               72000.0                No                                      \n",
        "\n",
        "Spain  27.0  48000.0       Yes \n",
        "\n",
        "\n",
        "Germany  30.0  54000.0        No\n",
        "\n",
        "Spain  38.0  61000.0        No\n",
        "\n",
        "Germany  40.0      NaN       Yes\n",
        "\n",
        "France  35.0  58000.0       Yes\n",
        "\n",
        "Spain   NaN  52000.0        No\n",
        "\n",
        "France  48.0  79000.0       Yes\n",
        "\n",
        "Germany  50.0  83000.0        No\n",
        "\n",
        "France  37.0  67000.0       Yes"
      ],
      "metadata": {
        "id": "nITvRnAVlfH-"
      }
    },
    {
      "cell_type": "code",
      "source": [
        "df = pd.read_csv(\"/content/drive/MyDrive/Colab Notebooks/abc.csv\",encoding='latin-1')\n",
        "print(df)"
      ],
      "metadata": {
        "colab": {
          "base_uri": "https://localhost:8080/"
        },
        "id": "vpcnp4XXLz5u",
        "outputId": "4bf9d096-ec1b-4658-a1df-38475c9db704"
      },
      "execution_count": null,
      "outputs": [
        {
          "output_type": "stream",
          "name": "stdout",
          "text": [
            "   Country   Age   Salary Purchased\n",
            "0   France  44.0  72000.0        No\n",
            "1    Spain  27.0  48000.0       Yes\n",
            "2  Germany  30.0  54000.0        No\n",
            "3    Spain  38.0  61000.0        No\n",
            "4  Germany  40.0      NaN       Yes\n",
            "5   France  35.0  58000.0       Yes\n",
            "6    Spain   NaN  52000.0        No\n",
            "7   France  48.0  79000.0       Yes\n",
            "8  Germany  50.0  83000.0        No\n",
            "9   France  37.0  67000.0       Yes\n"
          ]
        }
      ]
    },
    {
      "cell_type": "markdown",
      "source": [],
      "metadata": {
        "id": "owPE9FkfmOqT"
      }
    },
    {
      "cell_type": "markdown",
      "source": [
        "**Finding Missing  Data**                                                                                                                                                                                                                                              The function isna(), which returns TRUE if an cell of the dataset if NaN or not."
      ],
      "metadata": {
        "id": "t08-zW52l-Fe"
      }
    },
    {
      "cell_type": "code",
      "source": [
        "df.isna()"
      ],
      "metadata": {
        "colab": {
          "base_uri": "https://localhost:8080/",
          "height": 363
        },
        "id": "k7IH-dUlLz8e",
        "outputId": "3e005bde-6d19-4dfc-b489-6a093c29d007"
      },
      "execution_count": null,
      "outputs": [
        {
          "output_type": "execute_result",
          "data": {
            "text/plain": [
              "   Country    Age  Salary  Purchased\n",
              "0    False  False   False      False\n",
              "1    False  False   False      False\n",
              "2    False  False   False      False\n",
              "3    False  False   False      False\n",
              "4    False  False    True      False\n",
              "5    False  False   False      False\n",
              "6    False   True   False      False\n",
              "7    False  False   False      False\n",
              "8    False  False   False      False\n",
              "9    False  False   False      False"
            ],
            "text/html": [
              "\n",
              "  <div id=\"df-eb3ab43e-f587-4b83-ba1f-14c9632c6cc6\">\n",
              "    <div class=\"colab-df-container\">\n",
              "      <div>\n",
              "<style scoped>\n",
              "    .dataframe tbody tr th:only-of-type {\n",
              "        vertical-align: middle;\n",
              "    }\n",
              "\n",
              "    .dataframe tbody tr th {\n",
              "        vertical-align: top;\n",
              "    }\n",
              "\n",
              "    .dataframe thead th {\n",
              "        text-align: right;\n",
              "    }\n",
              "</style>\n",
              "<table border=\"1\" class=\"dataframe\">\n",
              "  <thead>\n",
              "    <tr style=\"text-align: right;\">\n",
              "      <th></th>\n",
              "      <th>Country</th>\n",
              "      <th>Age</th>\n",
              "      <th>Salary</th>\n",
              "      <th>Purchased</th>\n",
              "    </tr>\n",
              "  </thead>\n",
              "  <tbody>\n",
              "    <tr>\n",
              "      <th>0</th>\n",
              "      <td>False</td>\n",
              "      <td>False</td>\n",
              "      <td>False</td>\n",
              "      <td>False</td>\n",
              "    </tr>\n",
              "    <tr>\n",
              "      <th>1</th>\n",
              "      <td>False</td>\n",
              "      <td>False</td>\n",
              "      <td>False</td>\n",
              "      <td>False</td>\n",
              "    </tr>\n",
              "    <tr>\n",
              "      <th>2</th>\n",
              "      <td>False</td>\n",
              "      <td>False</td>\n",
              "      <td>False</td>\n",
              "      <td>False</td>\n",
              "    </tr>\n",
              "    <tr>\n",
              "      <th>3</th>\n",
              "      <td>False</td>\n",
              "      <td>False</td>\n",
              "      <td>False</td>\n",
              "      <td>False</td>\n",
              "    </tr>\n",
              "    <tr>\n",
              "      <th>4</th>\n",
              "      <td>False</td>\n",
              "      <td>False</td>\n",
              "      <td>True</td>\n",
              "      <td>False</td>\n",
              "    </tr>\n",
              "    <tr>\n",
              "      <th>5</th>\n",
              "      <td>False</td>\n",
              "      <td>False</td>\n",
              "      <td>False</td>\n",
              "      <td>False</td>\n",
              "    </tr>\n",
              "    <tr>\n",
              "      <th>6</th>\n",
              "      <td>False</td>\n",
              "      <td>True</td>\n",
              "      <td>False</td>\n",
              "      <td>False</td>\n",
              "    </tr>\n",
              "    <tr>\n",
              "      <th>7</th>\n",
              "      <td>False</td>\n",
              "      <td>False</td>\n",
              "      <td>False</td>\n",
              "      <td>False</td>\n",
              "    </tr>\n",
              "    <tr>\n",
              "      <th>8</th>\n",
              "      <td>False</td>\n",
              "      <td>False</td>\n",
              "      <td>False</td>\n",
              "      <td>False</td>\n",
              "    </tr>\n",
              "    <tr>\n",
              "      <th>9</th>\n",
              "      <td>False</td>\n",
              "      <td>False</td>\n",
              "      <td>False</td>\n",
              "      <td>False</td>\n",
              "    </tr>\n",
              "  </tbody>\n",
              "</table>\n",
              "</div>\n",
              "      <button class=\"colab-df-convert\" onclick=\"convertToInteractive('df-eb3ab43e-f587-4b83-ba1f-14c9632c6cc6')\"\n",
              "              title=\"Convert this dataframe to an interactive table.\"\n",
              "              style=\"display:none;\">\n",
              "        \n",
              "  <svg xmlns=\"http://www.w3.org/2000/svg\" height=\"24px\"viewBox=\"0 0 24 24\"\n",
              "       width=\"24px\">\n",
              "    <path d=\"M0 0h24v24H0V0z\" fill=\"none\"/>\n",
              "    <path d=\"M18.56 5.44l.94 2.06.94-2.06 2.06-.94-2.06-.94-.94-2.06-.94 2.06-2.06.94zm-11 1L8.5 8.5l.94-2.06 2.06-.94-2.06-.94L8.5 2.5l-.94 2.06-2.06.94zm10 10l.94 2.06.94-2.06 2.06-.94-2.06-.94-.94-2.06-.94 2.06-2.06.94z\"/><path d=\"M17.41 7.96l-1.37-1.37c-.4-.4-.92-.59-1.43-.59-.52 0-1.04.2-1.43.59L10.3 9.45l-7.72 7.72c-.78.78-.78 2.05 0 2.83L4 21.41c.39.39.9.59 1.41.59.51 0 1.02-.2 1.41-.59l7.78-7.78 2.81-2.81c.8-.78.8-2.07 0-2.86zM5.41 20L4 18.59l7.72-7.72 1.47 1.35L5.41 20z\"/>\n",
              "  </svg>\n",
              "      </button>\n",
              "      \n",
              "  <style>\n",
              "    .colab-df-container {\n",
              "      display:flex;\n",
              "      flex-wrap:wrap;\n",
              "      gap: 12px;\n",
              "    }\n",
              "\n",
              "    .colab-df-convert {\n",
              "      background-color: #E8F0FE;\n",
              "      border: none;\n",
              "      border-radius: 50%;\n",
              "      cursor: pointer;\n",
              "      display: none;\n",
              "      fill: #1967D2;\n",
              "      height: 32px;\n",
              "      padding: 0 0 0 0;\n",
              "      width: 32px;\n",
              "    }\n",
              "\n",
              "    .colab-df-convert:hover {\n",
              "      background-color: #E2EBFA;\n",
              "      box-shadow: 0px 1px 2px rgba(60, 64, 67, 0.3), 0px 1px 3px 1px rgba(60, 64, 67, 0.15);\n",
              "      fill: #174EA6;\n",
              "    }\n",
              "\n",
              "    [theme=dark] .colab-df-convert {\n",
              "      background-color: #3B4455;\n",
              "      fill: #D2E3FC;\n",
              "    }\n",
              "\n",
              "    [theme=dark] .colab-df-convert:hover {\n",
              "      background-color: #434B5C;\n",
              "      box-shadow: 0px 1px 3px 1px rgba(0, 0, 0, 0.15);\n",
              "      filter: drop-shadow(0px 1px 2px rgba(0, 0, 0, 0.3));\n",
              "      fill: #FFFFFF;\n",
              "    }\n",
              "  </style>\n",
              "\n",
              "      <script>\n",
              "        const buttonEl =\n",
              "          document.querySelector('#df-eb3ab43e-f587-4b83-ba1f-14c9632c6cc6 button.colab-df-convert');\n",
              "        buttonEl.style.display =\n",
              "          google.colab.kernel.accessAllowed ? 'block' : 'none';\n",
              "\n",
              "        async function convertToInteractive(key) {\n",
              "          const element = document.querySelector('#df-eb3ab43e-f587-4b83-ba1f-14c9632c6cc6');\n",
              "          const dataTable =\n",
              "            await google.colab.kernel.invokeFunction('convertToInteractive',\n",
              "                                                     [key], {});\n",
              "          if (!dataTable) return;\n",
              "\n",
              "          const docLinkHtml = 'Like what you see? Visit the ' +\n",
              "            '<a target=\"_blank\" href=https://colab.research.google.com/notebooks/data_table.ipynb>data table notebook</a>'\n",
              "            + ' to learn more about interactive tables.';\n",
              "          element.innerHTML = '';\n",
              "          dataTable['output_type'] = 'display_data';\n",
              "          await google.colab.output.renderOutput(dataTable, element);\n",
              "          const docLink = document.createElement('div');\n",
              "          docLink.innerHTML = docLinkHtml;\n",
              "          element.appendChild(docLink);\n",
              "        }\n",
              "      </script>\n",
              "    </div>\n",
              "  </div>\n",
              "  "
            ]
          },
          "metadata": {},
          "execution_count": 4
        }
      ]
    },
    {
      "cell_type": "markdown",
      "source": [
        "**Display count how many missing values there are for each column.**\n"
      ],
      "metadata": {
        "id": "4SFFhOFQmUpe"
      }
    },
    {
      "cell_type": "code",
      "source": [
        "df.isna().sum()"
      ],
      "metadata": {
        "colab": {
          "base_uri": "https://localhost:8080/"
        },
        "id": "7Rp8J75OLz_G",
        "outputId": "0b105bf1-9dcb-44bc-e790-5b4ee62cb833"
      },
      "execution_count": null,
      "outputs": [
        {
          "output_type": "execute_result",
          "data": {
            "text/plain": [
              "Country      0\n",
              "Age          1\n",
              "Salary       1\n",
              "Purchased    0\n",
              "dtype: int64"
            ]
          },
          "metadata": {},
          "execution_count": 5
        }
      ]
    },
    {
      "cell_type": "markdown",
      "source": [
        "**Display the  count percentage of missing values for each column**"
      ],
      "metadata": {
        "id": "UHUvboNjmeXk"
      }
    },
    {
      "cell_type": "code",
      "source": [
        "print(df.isna().sum()/len(df)*100)"
      ],
      "metadata": {
        "colab": {
          "base_uri": "https://localhost:8080/"
        },
        "id": "ihKJLbyEL0Bn",
        "outputId": "88289f87-5004-4fc5-ff44-a0ce28435a3c"
      },
      "execution_count": null,
      "outputs": [
        {
          "output_type": "stream",
          "name": "stdout",
          "text": [
            "Country       0.0\n",
            "Age          10.0\n",
            "Salary       10.0\n",
            "Purchased     0.0\n",
            "dtype: float64\n"
          ]
        }
      ]
    },
    {
      "cell_type": "markdown",
      "source": [
        "**fillna():** **The fillna() function replaces all the NaN values with the value passed as argument.** "
      ],
      "metadata": {
        "id": "j3mkgH5zmpJd"
      }
    },
    {
      "cell_type": "code",
      "source": [
        "print(df.fillna(12))"
      ],
      "metadata": {
        "colab": {
          "base_uri": "https://localhost:8080/"
        },
        "id": "W_Udm-KjMadW",
        "outputId": "9d56023b-f1e0-47aa-f25b-1abfafc74ff2"
      },
      "execution_count": null,
      "outputs": [
        {
          "output_type": "stream",
          "name": "stdout",
          "text": [
            "   Country   Age   Salary Purchased\n",
            "0   France  44.0  72000.0        No\n",
            "1    Spain  27.0  48000.0       Yes\n",
            "2  Germany  30.0  54000.0        No\n",
            "3    Spain  38.0  61000.0        No\n",
            "4  Germany  40.0     12.0       Yes\n",
            "5   France  35.0  58000.0       Yes\n",
            "6    Spain  12.0  52000.0        No\n",
            "7   France  48.0  79000.0       Yes\n",
            "8  Germany  50.0  83000.0        No\n",
            "9   France  37.0  67000.0       Yes\n"
          ]
        }
      ]
    },
    {
      "cell_type": "markdown",
      "source": [
        "**The fillna() function replaces all the NaN values with the mean of same column as argument.** "
      ],
      "metadata": {
        "id": "WtDsT7vvm2uT"
      }
    },
    {
      "cell_type": "code",
      "source": [
        "print(df.fillna(df.mean()))\n"
      ],
      "metadata": {
        "colab": {
          "base_uri": "https://localhost:8080/"
        },
        "id": "lhzyHURGMaiF",
        "outputId": "d18f3ef5-3882-4c12-9eb2-4c6870b1fce8"
      },
      "execution_count": null,
      "outputs": [
        {
          "output_type": "stream",
          "name": "stdout",
          "text": [
            "   Country        Age        Salary Purchased\n",
            "0   France  44.000000  72000.000000        No\n",
            "1    Spain  27.000000  48000.000000       Yes\n",
            "2  Germany  30.000000  54000.000000        No\n",
            "3    Spain  38.000000  61000.000000        No\n",
            "4  Germany  40.000000  63777.777778       Yes\n",
            "5   France  35.000000  58000.000000       Yes\n",
            "6    Spain  38.777778  52000.000000        No\n",
            "7   France  48.000000  79000.000000       Yes\n",
            "8  Germany  50.000000  83000.000000        No\n",
            "9   France  37.000000  67000.000000       Yes\n"
          ]
        },
        {
          "output_type": "stream",
          "name": "stderr",
          "text": [
            "/usr/local/lib/python3.7/dist-packages/ipykernel_launcher.py:1: FutureWarning: Dropping of nuisance columns in DataFrame reductions (with 'numeric_only=None') is deprecated; in a future version this will raise TypeError.  Select only valid columns before calling the reduction.\n",
            "  \"\"\"Entry point for launching an IPython kernel.\n"
          ]
        }
      ]
    },
    {
      "cell_type": "markdown",
      "source": [
        "**Replace a missing value over a column, with the interpolation between the previous and the next ones.**\n"
      ],
      "metadata": {
        "id": "2E5874SPnZ-O"
      }
    },
    {
      "cell_type": "code",
      "source": [
        "print(df.interpolate())"
      ],
      "metadata": {
        "colab": {
          "base_uri": "https://localhost:8080/"
        },
        "id": "bq85zmLwMak1",
        "outputId": "eff4024f-e459-4cc2-f919-2f999d07927c"
      },
      "execution_count": null,
      "outputs": [
        {
          "output_type": "stream",
          "name": "stdout",
          "text": [
            "   Country   Age   Salary Purchased\n",
            "0   France  44.0  72000.0        No\n",
            "1    Spain  27.0  48000.0       Yes\n",
            "2  Germany  30.0  54000.0        No\n",
            "3    Spain  38.0  61000.0        No\n",
            "4  Germany  40.0  59500.0       Yes\n",
            "5   France  35.0  58000.0       Yes\n",
            "6    Spain  41.5  52000.0        No\n",
            "7   France  48.0  79000.0       Yes\n",
            "8  Germany  50.0  83000.0        No\n",
            "9   France  37.0  67000.0       Yes\n"
          ]
        }
      ]
    },
    {
      "cell_type": "markdown",
      "source": [
        "**Data binning (or bucketing) groups data in bins (or buckets)**, \n",
        "in the sense that it replaces values contained into a small interval with a single representative value for that interval.                                                                         \n",
        "20 to 30 : Youth,                                                                    \n",
        "30 to 40 : Adult,                                                                      \n",
        "40 to 50 : Senior,"
      ],
      "metadata": {
        "id": "wAkHLRcsnh1k"
      }
    },
    {
      "cell_type": "code",
      "source": [
        "bins=[20,30,40,50]\n",
        "\n",
        "groups_name=['youth','adult','senior']\n",
        "\n",
        "df['age_category']=pd.cut(df['Age'],bins,labels=groups_name)\n",
        "\n",
        "print(df)\n"
      ],
      "metadata": {
        "colab": {
          "base_uri": "https://localhost:8080/"
        },
        "id": "2S6aNymEManN",
        "outputId": "8a599875-d4cf-4d36-8445-2738d98d0909"
      },
      "execution_count": null,
      "outputs": [
        {
          "output_type": "stream",
          "name": "stdout",
          "text": [
            "   Country   Age   Salary Purchased age_category\n",
            "0   France  44.0  72000.0        No       senior\n",
            "1    Spain  27.0  48000.0       Yes        youth\n",
            "2  Germany  30.0  54000.0        No        youth\n",
            "3    Spain  38.0  61000.0        No        adult\n",
            "4  Germany  40.0      NaN       Yes        adult\n",
            "5   France  35.0  58000.0       Yes        adult\n",
            "6    Spain   NaN  52000.0        No          NaN\n",
            "7   France  48.0  79000.0       Yes       senior\n",
            "8  Germany  50.0  83000.0        No       senior\n",
            "9   France  37.0  67000.0       Yes        adult\n"
          ]
        }
      ]
    },
    {
      "cell_type": "code",
      "source": [],
      "metadata": {
        "id": "2NOpWIWuMasH"
      },
      "execution_count": null,
      "outputs": []
    }
  ]
}